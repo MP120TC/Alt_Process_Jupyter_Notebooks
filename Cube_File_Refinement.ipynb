{
 "cells": [
  {
   "cell_type": "markdown",
   "id": "f5c116b9",
   "metadata": {},
   "source": [
    "# Refine an Existing LUT (.cube) Using a Second LUT (.cube) and Output a Smoothed New LUT file\n",
    "This notebook allows you to refine an existing LUT curve from a .cube file using a second .cube file.  The workflow would normally be:\n",
    "1. Run testing procedures and obtain the first LUT .cube file\n",
    "1. Apply the first LUT .cube file to the same test image (step wedge) to make a new negative and print it\n",
    "1. Obtain the second LUT .cube file from the second print\n",
    "1. Refine/correct the first LUT .cube using the second LUT .cube file in this notebook\n",
    "\n",
    "### IMPORTANT\n",
    "**Both .cube files must contain the same number of entries.  If one file has 256 entries then both files must have 256 entries.  You cannot use a 21-step .cube file in conjunction with a 256-step .cube file. If you try this, you will encounter errors.**\n",
    "### Output .cube File\n",
    "The output of this notebook is a new .cube file that contains the smoothed, refined LUT curve.  You could further refine that .cube by using it as the first LUT .cube file and run through these procedures again.  At some point you'll just be chasing perfection that cannot be attained, so it is uncommon to run through more than two iterations.  One refinement iteration may even be sufficient.\n",
    "\n",
    "The output .cube file will use the name you provide (when prompted) and will be saved in the same folder as the first .cube file.\n",
    "### How To Use This Notebook\n",
    "The code in this notebook is organized into cells.  Each cell can be run independently, providing all prerequisite imports have been done and all variables exist.  However, **it is recommended that you run all code cells in sequence.**  \n",
    "\n",
    "The exceptions to this normal operation are that you may wish to run the [Smooth the New Curve and Plot the Results](#Smooth-the-New-Curve-and-Plot-the-Results) cell more than once, providing different smoothing values until you are satisfied with the results.  Once you are happy with the resulting curve, you can then move on to the [Save the New Curve to a .cube File](#Save-the-New-Curve-to-a-.cube-File) cell to save the new .cube file."
   ]
  },
  {
   "cell_type": "code",
   "execution_count": null,
   "id": "e4085687",
   "metadata": {},
   "outputs": [],
   "source": [
    "import os\n",
    "import sys\n",
    "import pandas as pd\n",
    "import numpy as np\n",
    "import matplotlib.pyplot as plt\n",
    "from tkinter import Tk\n",
    "from tkinter import filedialog\n",
    "from tkinter import simpledialog\n",
    "from scipy.interpolate import UnivariateSpline"
   ]
  },
  {
   "cell_type": "code",
   "execution_count": null,
   "id": "16c46556",
   "metadata": {},
   "outputs": [],
   "source": [
    "def read_cube_to_list(in_file):\n",
    "    cube_values = []\n",
    "    with open(in_file, 'r') as cf:\n",
    "        for line in cf:\n",
    "            if line.startswith(\"#\"):\n",
    "                continue\n",
    "            if line.startswith(\"TITLE\"):\n",
    "                continue\n",
    "            if line.startswith(\"LUT\"):\n",
    "                continue\n",
    "            if line.startswith(\"DOMAIN\"):\n",
    "                continue\n",
    "            if line:\n",
    "                cube_values.append(float(line.split(\" \")[0]))\n",
    "    return cube_values"
   ]
  },
  {
   "cell_type": "markdown",
   "id": "6147576c",
   "metadata": {},
   "source": [
    "# Get the .cube Files to Process"
   ]
  },
  {
   "cell_type": "code",
   "execution_count": null,
   "id": "240f3281",
   "metadata": {},
   "outputs": [],
   "source": [
    "root = Tk()\n",
    "root.wm_attributes('-topmost', 1)\n",
    "root.withdraw()\n",
    "first_cube_file = filedialog.askopenfilename(title=\"First .cube file (to refine)\", filetypes=[(\"LUT files\", \"*.cube\")])\n",
    "second_cube_file = filedialog.askopenfilename(title=\"Second (correcting) .cube file\", filetypes=[(\"LUT files\", \"*.cube\")])\n",
    "min_val = 0.0\n",
    "max_val = 1.0\n",
    "first_cube_values = read_cube_to_list(first_cube_file)\n",
    "second_cube_values = read_cube_to_list(second_cube_file)\n",
    "cube_filename = simpledialog.askstring(\"Output .cube File Name\", \"Enter the name for the output .cube file (no .cube extension)\")\n",
    "cube_filename = cube_filename.replace(\" \", \"_\")\n",
    "print(\"Refining: {}\".format(first_cube_file))\n",
    "print(\"Using: {}\".format(second_cube_file))\n",
    "print(\"To create {}.cube\".format(cube_filename))"
   ]
  },
  {
   "cell_type": "markdown",
   "id": "a3c5620e",
   "metadata": {},
   "source": [
    "# Refine the First Curve Using the Second Curve\n",
    "When combining the first and second curves as-is, it is possible to overshoot the correction to get to the desired linear response if the curves are merely combined.  To combat this, the correction for any particular value is scaled using a natural logarithm so that dark tones are affected more than light tones.  "
   ]
  },
  {
   "cell_type": "code",
   "execution_count": null,
   "id": "c30f3391",
   "metadata": {},
   "outputs": [],
   "source": [
    "value_steps = []\n",
    "first_curve_name = os.path.splitext(os.path.basename(first_cube_file))[0]\n",
    "second_curve_name = os.path.splitext(os.path.basename(second_cube_file))[0]\n",
    "# create the list of exposure steps from 0.0 to 1.0\n",
    "num_steps = len(first_cube_values)\n",
    "step_increment = 1.0 / (num_steps - 1)\n",
    "for i in range(num_steps):\n",
    "    value_steps.append(round(min_val + (i * step_increment), 4))\n",
    "linear_line = pd.Series(value_steps, index=value_steps)\n",
    "first_curve_line = pd.Series(first_cube_values, index=value_steps)\n",
    "second_curve_line = pd.Series(second_cube_values, index=value_steps)\n",
    "cube_df = pd.DataFrame({'Linear':value_steps, first_curve_name:first_curve_line, second_curve_name:second_curve_line}, index=value_steps)\n",
    "# use the natural log to apply the second curve to the first\n",
    "# this is done to vary the correction factor so the correction becomes gradually smaller as values increase\n",
    "# using a single correction factor under-corrects the shadows and over-corrects the highlights\n",
    "cube_df['Corr_Fact'] = np.log((cube_df['Linear'] + 0.3) * 10.0)\n",
    "cube_df['Refined_Curve'] = cube_df[first_curve_name] + ((cube_df[second_curve_name] - cube_df['Linear']) / cube_df['Corr_Fact'])"
   ]
  },
  {
   "cell_type": "markdown",
   "id": "7b2c3606",
   "metadata": {},
   "source": [
    "# Smooth the New Curve and Plot the Results\n",
    "The following cell smooths the refined curve using a Univariate Spline with a smoothing factor.  You will be prompted to specify the smoothing factor.  Common values fall within the 0.1 to 0.001 range, and the larger this number, the smoother the resulting curve.  \n",
    "\n",
    "If you do not wish to have any smoothing applied, enter 0.  \n",
    "\n",
    "**If, after running this cell, you do not like the resulting smoothed curve, you may re-run this cell as many times as needed to narrow down the smoothing factor you like best.**"
   ]
  },
  {
   "cell_type": "code",
   "execution_count": null,
   "id": "4a4937db",
   "metadata": {},
   "outputs": [],
   "source": [
    "# make sure values are strictly increasing\n",
    "smoothed_vals = cube_df['Refined_Curve'].tolist()\n",
    "output_vals = []\n",
    "previous_val = -1\n",
    "for val in smoothed_vals:\n",
    "    if val > previous_val:\n",
    "        output_vals.append(val)\n",
    "        previous_val = val\n",
    "    else:\n",
    "        output_vals.append(previous_val)\n",
    "cube_df['Refined_Curve'] = output_vals\n",
    "smoothing_factor_value = simpledialog.askfloat(title=\"Smoothing Factor\", prompt=\"Enter a smoothing factor. This will probably be a very small number less than 1.\\nBigger numbers mean a smoother result.\\nIf you enter 0, no further smoothing will be performed.\", initialvalue=0.005)\n",
    "k_value = simpledialog.askinteger(title=\"Number of Knots (K)\", prompt=\"Enter the number of knots to use.\\nMore knots means more able to capture shape.\\nWhen in doubt, use 5\", initialvalue=5)\n",
    "if smoothing_factor_value == None:\n",
    "    smoothing_factor_value = 0.005\n",
    "curve_spline = UnivariateSpline(value_steps, cube_df['Refined_Curve'], k=k_value)\n",
    "curve_spline.set_smoothing_factor(smoothing_factor_value)\n",
    "if smoothing_factor_value > 0.0:\n",
    "    cube_df['Refined_Smoothed_Curve'] = curve_spline(cube_df['Linear'])\n",
    "    cube_field = 'Refined_Smoothed_Curve'\n",
    "else:\n",
    "    if \"Refined_Smoothed_Curve\" in cube_df.columns:\n",
    "        cube_df.drop(\"Refined_Smoothed_Curve\", inplace=True, axis=1)\n",
    "    cube_field = \"Refined_Curve\"\n",
    "# again make sure the curve has no inversions\n",
    "curve_vals = cube_df[cube_field].tolist()\n",
    "output_vals = []\n",
    "previous_val = -1\n",
    "for val in curve_vals:\n",
    "    if val > previous_val:\n",
    "        output_vals.append(val)\n",
    "        previous_val = val\n",
    "    else:\n",
    "        output_vals.append(previous_val)\n",
    "cube_df[cube_field] = output_vals\n",
    "# plot the results\n",
    "plt.close(\"all\")\n",
    "first_file = os.path.basename(first_cube_file)\n",
    "second_file = os.path.basename(second_cube_file)\n",
    "title_text = \"{}.cube\\n\\nSmoothing Factor: {}\\n\\n{}\\nrefined using\\n{}.cube\".format(cube_filename, smoothing_factor_value, first_file, second_file)\n",
    "cube_plot = cube_df[['Linear', first_curve_name, second_curve_name, 'Refined_Curve', cube_field]].plot(grid=True, title=title_text, figsize=(7,7))\n",
    "cube_plot.set_xlabel(\"Input Value\")\n",
    "cube_plot.set_ylabel(\"Output Value\")\n",
    "plt.show()"
   ]
  },
  {
   "cell_type": "markdown",
   "id": "c11ce8df",
   "metadata": {},
   "source": [
    "# Save the New Curve to a .cube File"
   ]
  },
  {
   "cell_type": "code",
   "execution_count": null,
   "id": "63d771e1",
   "metadata": {},
   "outputs": [],
   "source": [
    "cube_filename = cube_filename.replace(\"plus\", \"minus\")\n",
    "out_cube = os.path.join(os.path.dirname(first_cube_file), \"{}.cube\".format(cube_filename))\n",
    "with open(out_cube, 'w') as cube:\n",
    "    cube.write(\"#Created by: Easy Digital Negatives plus Jupyter\\nTITLE  \\\"{}\\\"\\nLUT_1D_SIZE {}\\nDOMAIN_MIN 0.0 0.0 0.0\\nDOMAIN_MAX 1.0 1.0 1.0\\n#LUT data points\\n\".format(cube_filename, num_steps))\n",
    "    line_template = \"{:<08} {:<08} {:<08}\\n\"\n",
    "    for i, row in cube_df.iterrows():\n",
    "        if smoothing_factor_value == 0.0:\n",
    "            val = round(row['Refined_Curve'], 6)\n",
    "        else:\n",
    "            val = round(row['Refined_Smoothed_Curve'], 6)\n",
    "        if val < 0:\n",
    "            val = 0.0\n",
    "        elif val > 1.0:\n",
    "            val = 1.0\n",
    "        cube.write(line_template.format(val, val, val))\n",
    "    cube.write(\"#END data\\n\")\n",
    "print(\"Saved {}\".format(out_cube))"
   ]
  },
  {
   "cell_type": "code",
   "execution_count": null,
   "id": "85c60c0f",
   "metadata": {},
   "outputs": [],
   "source": []
  }
 ],
 "metadata": {
  "kernelspec": {
   "display_name": "Python 3 (ipykernel)",
   "language": "python",
   "name": "python3"
  },
  "language_info": {
   "codemirror_mode": {
    "name": "ipython",
    "version": 3
   },
   "file_extension": ".py",
   "mimetype": "text/x-python",
   "name": "python",
   "nbconvert_exporter": "python",
   "pygments_lexer": "ipython3",
   "version": "3.11.4"
  }
 },
 "nbformat": 4,
 "nbformat_minor": 5
}
