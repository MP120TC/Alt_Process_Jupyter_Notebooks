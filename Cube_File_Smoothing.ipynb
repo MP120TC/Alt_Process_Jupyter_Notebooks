{
 "cells": [
  {
   "cell_type": "markdown",
   "id": "eb186c7c",
   "metadata": {},
   "source": [
    "# Smooth an Easy Digital Negatives LUT .cube File\n",
    "This notebook allows you to smooth the curve contained within a LUT .cube file, which is generally obtained from the Easy Digital Negatives website to use in making alternative process digital negatives.\n",
    "\n",
    "### How To Run This Notebook\n",
    "The code in this notebook is organized into cells.  Each cell can be run independently, providing all prerequisite imports have been done and all variables exist.  However, **it is recommended that you run all code cells in sequence.**  \n",
    "\n",
    "The only exception is possibly the [Smooth the Data and Plot the Results](#Smooth-the-Data-and-Plot-the-Results) cell, which you may choose to run more than once if you wish to revise your smoothing factor prior to saving the new .cube file."
   ]
  },
  {
   "cell_type": "code",
   "execution_count": null,
   "id": "623cac20",
   "metadata": {},
   "outputs": [],
   "source": [
    "import os\n",
    "import sys\n",
    "import pandas as pd\n",
    "import numpy as np\n",
    "import matplotlib.pyplot as plt\n",
    "from scipy.interpolate import UnivariateSpline\n",
    "from tkinter import Tk\n",
    "from tkinter import filedialog\n",
    "from tkinter import simpledialog"
   ]
  },
  {
   "cell_type": "code",
   "execution_count": null,
   "id": "6202d24d",
   "metadata": {},
   "outputs": [],
   "source": [
    "def read_cube_to_list(in_file):\n",
    "    cube_values = []\n",
    "    with open(in_file, 'r') as cf:\n",
    "        for line in cf:\n",
    "            if line.startswith(\"#\"):\n",
    "                continue\n",
    "            if line.startswith(\"TITLE\"):\n",
    "                continue\n",
    "            if line.startswith(\"LUT\"):\n",
    "                continue\n",
    "            if line.startswith(\"DOMAIN\"):\n",
    "                continue\n",
    "            if line:\n",
    "                cube_values.append(float(line.split(\" \")[0]))\n",
    "    return cube_values"
   ]
  },
  {
   "cell_type": "markdown",
   "id": "95caeb3f",
   "metadata": {},
   "source": [
    "# Get the .cube File to Process"
   ]
  },
  {
   "cell_type": "code",
   "execution_count": null,
   "id": "0fcbba31",
   "metadata": {},
   "outputs": [],
   "source": [
    "# get the Easy Digital Negatives CSV file to process\n",
    "root = Tk()\n",
    "root.wm_attributes('-topmost', 1)\n",
    "root.withdraw()\n",
    "cube_file = filedialog.askopenfilename(title=\"Easy Digital Negatives LUT .cube file\", filetypes=[(\"LUT files\", \"*.cube\")])\n",
    "min_val = 0.0\n",
    "max_val = 1.0\n",
    "cube_values = read_cube_to_list(cube_file)\n",
    "cube_filename = simpledialog.askstring(\"Output .cube File Name\", \"Enter the name for the output .cube file (no .cube extension)\")\n",
    "cube_filename = cube_filename.replace(\" \", \"_\")\n",
    "print(\"Refining: {}\".format(cube_file))\n",
    "print(\"To create {}.cube\".format(cube_filename))"
   ]
  },
  {
   "cell_type": "markdown",
   "id": "d7f8b6b0",
   "metadata": {},
   "source": [
    "# Smooth the Data and Plot the Results\n",
    "The following cell smooths the refined curve using a Univariate Spline with a smoothing factor.  You will be prompted to specify the smoothing factor.  Common values fall within the 0.1 to 0.001 range, and the larger this number, the smoother the resulting curve.  \n",
    "\n",
    "**If, after running this cell, you do not like the resulting smoothed curve, you may re-run this cell as many times as needed to narrow down the smoothing factor you like best.**"
   ]
  },
  {
   "cell_type": "code",
   "execution_count": null,
   "id": "cc4ebaae",
   "metadata": {},
   "outputs": [],
   "source": [
    "value_steps = []\n",
    "num_steps = len(cube_values)\n",
    "step_increment = 1.0 / (num_steps - 1)\n",
    "for i in range(num_steps):\n",
    "    value_steps.append(round(min_val + (i * step_increment), 4))\n",
    "linear_line = pd.Series(value_steps, index=value_steps)\n",
    "curve_line = pd.Series(cube_values, index=value_steps)\n",
    "cube_df = pd.DataFrame({'Linear':value_steps, 'Cube_Curve':curve_line}, index=value_steps)\n",
    "cube_df.head(num_steps)\n",
    "smoothing_factor_value = simpledialog.askfloat(title=\"Smoothing Factor\", prompt=\"Enter a smoothing factor. This will probably be a very small number less than 1.\\nBigger numbers mean a smoother result.\\nIf you enter 0, no further smoothing will be performed.\", initialvalue=0.001)\n",
    "k_value = simpledialog.askinteger(title=\"Number of Knots (K)\", prompt=\"Enter the number of knots to use.\\nMore knots means more able to capture shape.\\nWhen in doubt, use 5\", initialvalue=5)\n",
    "if smoothing_factor_value == None:\n",
    "    smoothing_factor_value = 0.001\n",
    "spl = UnivariateSpline(cube_df['Linear'], cube_df['Cube_Curve'], k=k_value)\n",
    "spl.set_smoothing_factor(smoothing_factor_value)\n",
    "cube_df['Smoothed_Curve'] = spl(value_steps)\n",
    "plt.close(\"all\")\n",
    "cube_plot = cube_df.plot(grid=True, title='LUT Curves', figsize=(7,7))\n",
    "cube_plot.set_xlabel(\"Input Value\")\n",
    "cube_plot.set_ylabel(\"Output Value\")\n",
    "plt.show()"
   ]
  },
  {
   "cell_type": "markdown",
   "id": "45515e20",
   "metadata": {},
   "source": [
    "# Save the New Curve to a .cube File"
   ]
  },
  {
   "cell_type": "code",
   "execution_count": null,
   "id": "76a33f18",
   "metadata": {},
   "outputs": [],
   "source": [
    "out_cube = os.path.join(os.path.dirname(cube_file), \"{}.cube\".format(cube_filename))\n",
    "with open(out_cube, 'w') as cube:\n",
    "    cube.write(\"#Created by: Easy Digital Negatives plus Jupyter\\nTITLE  \\\"{}\\\"\\nLUT_1D_SIZE {}\\nDOMAIN_MIN 0.0 0.0 0.0\\nDOMAIN_MAX 1.0 1.0 1.0\\n#LUT data points\\n\".format(cube_filename, num_steps))\n",
    "    line_template = \"{:<08} {:<08} {:<08}\\n\"\n",
    "    for i, row in cube_df.iterrows():\n",
    "        val = round(row['Smoothed_Curve'], 6)\n",
    "        cube.write(line_template.format(val, val, val))\n",
    "    cube.write(\"#END data\\n\")\n",
    "print(\"Saved {}\".format(out_cube))"
   ]
  },
  {
   "cell_type": "code",
   "execution_count": null,
   "id": "b054590a",
   "metadata": {},
   "outputs": [],
   "source": []
  }
 ],
 "metadata": {
  "kernelspec": {
   "display_name": "Python 3 (ipykernel)",
   "language": "python",
   "name": "python3"
  },
  "language_info": {
   "codemirror_mode": {
    "name": "ipython",
    "version": 3
   },
   "file_extension": ".py",
   "mimetype": "text/x-python",
   "name": "python",
   "nbconvert_exporter": "python",
   "pygments_lexer": "ipython3",
   "version": "3.11.4"
  }
 },
 "nbformat": 4,
 "nbformat_minor": 5
}
