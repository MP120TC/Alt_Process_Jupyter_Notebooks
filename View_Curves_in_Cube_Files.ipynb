{
 "cells": [
  {
   "cell_type": "code",
   "execution_count": null,
   "id": "14756560",
   "metadata": {},
   "outputs": [],
   "source": [
    "import os\n",
    "import sys\n",
    "import pandas as pd\n",
    "import numpy as np\n",
    "import matplotlib.pyplot as plt\n",
    "from scipy.interpolate import UnivariateSpline\n",
    "from tkinter import Tk\n",
    "from tkinter import filedialog\n",
    "from tkinter import simpledialog"
   ]
  },
  {
   "cell_type": "code",
   "execution_count": null,
   "id": "6e5523a7",
   "metadata": {},
   "outputs": [],
   "source": [
    "def read_cube_to_list(in_file):\n",
    "    cube_values = []\n",
    "    with open(in_file, 'r') as cf:\n",
    "        for line in cf:\n",
    "            if line.startswith(\"#\"):\n",
    "                continue\n",
    "            if line.startswith(\"TITLE\"):\n",
    "                continue\n",
    "            if line.startswith(\"LUT\"):\n",
    "                continue\n",
    "            if line.startswith(\"DOMAIN\"):\n",
    "                continue\n",
    "            if line:\n",
    "                cube_values.append(float(line.split(\" \")[0]))\n",
    "    return cube_values"
   ]
  },
  {
   "cell_type": "code",
   "execution_count": null,
   "id": "1f57272d",
   "metadata": {},
   "outputs": [],
   "source": [
    "# get the .cube file(s) to process\n",
    "root = Tk()\n",
    "root.wm_attributes('-topmost', 1)\n",
    "root.withdraw()\n",
    "cube_files = filedialog.askopenfilenames(title=\".cube file(s) to plot\", filetypes=[(\"LUT files\", \"*.cube\")])\n",
    "min_val = 0.0\n",
    "max_val = 1.0\n",
    "cube_files_dict = {}\n",
    "fnames = []\n",
    "for cf in cube_files:\n",
    "    fname = os.path.splitext(os.path.basename(cf))[0]\n",
    "    cube_files_dict[fname] = read_cube_to_list(cf)\n",
    "    fnames.append(fname)\n",
    "cube_lengths = []\n",
    "for cf in cube_files_dict.keys():\n",
    "    if not len(cube_files_dict[cf]) in cube_lengths:\n",
    "        cube_lengths.append(len(cube_files_dict[cf]))\n",
    "if len(cube_lengths) > 1:\n",
    "    print(\"ERROR!  The cube files provided do not have the same number of values\")"
   ]
  },
  {
   "cell_type": "code",
   "execution_count": null,
   "id": "f7c898e5",
   "metadata": {},
   "outputs": [],
   "source": [
    "value_steps = []\n",
    "num_steps = cube_lengths[0]\n",
    "step_increment = 1.0 / (num_steps - 1)\n",
    "for i in range(num_steps):\n",
    "    value_steps.append(round(min_val + (i * step_increment), 4))\n",
    "    #linear_line = pd.Series(value_steps, index=value_steps)\n",
    "cube_df = pd.DataFrame({'Linear':value_steps}, index=value_steps)\n",
    "for cf in cube_files_dict.keys():\n",
    "    curve_line = pd.Series(cube_files_dict[cf], index=value_steps)\n",
    "    cube_df[cf] = curve_line\n",
    "cube_plot = cube_df.plot(grid=True, title='.cube File Curve(s)', figsize=(7,7))\n",
    "cube_plot.set_xlabel(\"Input Value\")\n",
    "cube_plot.set_xticks(value_steps, minor=True)\n",
    "cube_plot.set_ylabel(\"Output Value\")\n",
    "cube_plot.set_yticks(value_steps, minor=True)\n",
    "plt.show()"
   ]
  },
  {
   "cell_type": "code",
   "execution_count": null,
   "id": "fc5b6cb6",
   "metadata": {},
   "outputs": [],
   "source": []
  }
 ],
 "metadata": {
  "kernelspec": {
   "display_name": "Python 3 (ipykernel)",
   "language": "python",
   "name": "python3"
  },
  "language_info": {
   "codemirror_mode": {
    "name": "ipython",
    "version": 3
   },
   "file_extension": ".py",
   "mimetype": "text/x-python",
   "name": "python",
   "nbconvert_exporter": "python",
   "pygments_lexer": "ipython3",
   "version": "3.11.4"
  }
 },
 "nbformat": 4,
 "nbformat_minor": 5
}
