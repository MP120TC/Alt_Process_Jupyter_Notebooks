{
 "cells": [
  {
   "cell_type": "code",
   "execution_count": null,
   "id": "0ad809ca",
   "metadata": {},
   "outputs": [],
   "source": [
    "import os\n",
    "import sys\n",
    "import pandas as pd\n",
    "import numpy as np\n",
    "import matplotlib.pyplot as plt\n",
    "import scipy.interpolate\n",
    "from tkinter import Tk\n",
    "from tkinter import filedialog\n",
    "from tkinter import simpledialog"
   ]
  },
  {
   "cell_type": "code",
   "execution_count": null,
   "id": "4f2ec20b",
   "metadata": {},
   "outputs": [],
   "source": [
    "L_paper_white = 94.61\n",
    "L_darkest = 1.85"
   ]
  },
  {
   "cell_type": "code",
   "execution_count": null,
   "id": "9e375950",
   "metadata": {},
   "outputs": [],
   "source": [
    "root = Tk()\n",
    "root.wm_attributes('-topmost', 1)\n",
    "root.withdraw()\n",
    "txt_files = filedialog.askopenfilenames(title=\"Datacolor Measurement .txt file(s)\", filetypes=[(\"TXT files\", \"*.txt\")])"
   ]
  },
  {
   "cell_type": "code",
   "execution_count": null,
   "id": "1948eebc",
   "metadata": {},
   "outputs": [],
   "source": [
    "dfs = []\n",
    "for txt in txt_files:\n",
    "    df = pd.read_csv(txt, header=None, usecols=[0], sep='\\t')\n",
    "    dfs.append(df)\n",
    "# rename the columns in each dataframe\n",
    "for i in range(len(dfs)):\n",
    "    dfs[i].rename(columns={0:\"Text_File_{}\".format(i+1)}, inplace=True)\n",
    "# make the value steps\n",
    "value_steps = []\n",
    "num_steps = len(dfs[0].index)\n",
    "step_increment = 1.0 / (num_steps - 1)\n",
    "min_val = 0\n",
    "for i in range(num_steps):\n",
    "    value_steps.append(round(min_val + (i * step_increment), 4) * 100)\n",
    "# check to see if the value steps' order matches the first dataframe\n",
    "mindf = dfs[0][['Text_File_1']].idxmin().values[0]\n",
    "maxdf = dfs[0][['Text_File_1']].idxmax().values[0]\n",
    "# create a dataframe using the value steps as the index\n",
    "datacolor_df = pd.DataFrame({\"Linear\":value_steps}, index=value_steps)\n",
    "# add the values from the TXT dataframes\n",
    "column_names = []\n",
    "for i in range(len(dfs)):\n",
    "    col_vals = dfs[i]['Text_File_{}'.format(i+1)].tolist()\n",
    "    # make sure the list values are increasing, not decreasing\n",
    "    if col_vals[0] > col_vals[-1]:\n",
    "        col_vals.reverse()\n",
    "    datacolor_df['Text_File_{}'.format(i+1)] = col_vals\n",
    "    column_names.append('Text_File_{}'.format(i+1))\n",
    "# average the text file columns\n",
    "datacolor_df[\"Avg_TXT_values\"] = datacolor_df[column_names].mean(axis=1)"
   ]
  },
  {
   "cell_type": "code",
   "execution_count": null,
   "id": "04c44ef5",
   "metadata": {},
   "outputs": [],
   "source": [
    "def interpolate(xval, df, xcol, ycol):\n",
    "    \"\"\"\n",
    "    This function returns an interpolated value from a dataframe at a specified X value.\n",
    "    \n",
    "    Inputs\n",
    "    ------\n",
    "    xval: numeric - the X value at which you wish to get the interpolated Y value\n",
    "    df: pandas dataframe - the dataframe containing the data to be interpolated\n",
    "    xcol: string - the name of the column in the dataframe containing X values\n",
    "    ycol: string - the name of the column in the dataframe containing Y values\n",
    "    \n",
    "    Returns\n",
    "    -------\n",
    "    (interpolated_value, X, Y)\n",
    "    \"\"\"\n",
    "    return np.interp([xval], df[xcol], df[ycol])"
   ]
  },
  {
   "cell_type": "code",
   "execution_count": null,
   "id": "e596c9b9",
   "metadata": {},
   "outputs": [],
   "source": [
    "# scale the values to fit within the minimum and maximum paper values\n",
    "min_val = datacolor_df['Avg_TXT_values'].min()\n",
    "if min_val > L_darkest:\n",
    "    min_val = L_darkest\n",
    "datacolor_df['Avg_TXT_values'] = (datacolor_df['Avg_TXT_values'] - min_val)\n",
    "scaling_fact = L_paper_white / datacolor_df['Avg_TXT_values'].max()\n",
    "datacolor_df['Avg_TXT_values'] = (datacolor_df['Avg_TXT_values'] * scaling_fact)"
   ]
  },
  {
   "cell_type": "code",
   "execution_count": null,
   "id": "f60ac89e",
   "metadata": {},
   "outputs": [],
   "source": [
    "# smooth the averaged values\n",
    "smoothing_factor_value = simpledialog.askinteger(title=\"Smoothing Factor\", prompt=\"Enter a smoothing factor.\\nBigger numbers mean a smoother result.\\nValues between 100 and 500 are most common.\", initialvalue=110)\n",
    "if smoothing_factor_value == None:\n",
    "    smoothing_factor_value = 110\n",
    "avg_spline = scipy.interpolate.UnivariateSpline(datacolor_df['Linear'], datacolor_df['Avg_TXT_values'], k=5)\n",
    "avg_spline.set_smoothing_factor(smoothing_factor_value)\n",
    "# get the smoothed readings, and make sure they're strictly increasing\n",
    "smoothed_vals = avg_spline(datacolor_df['Linear']).tolist()\n",
    "output_vals = []\n",
    "previous_val = -1\n",
    "for val in smoothed_vals:\n",
    "    if val > previous_val:\n",
    "        output_vals.append(val)\n",
    "        previous_val = val\n",
    "    else:\n",
    "        output_vals.append(previous_val)\n",
    "# add the values to the dataframe\n",
    "datacolor_df['Smoothed_TXT'] = output_vals"
   ]
  },
  {
   "cell_type": "code",
   "execution_count": null,
   "id": "42b49392",
   "metadata": {},
   "outputs": [],
   "source": [
    "# flip the values around the linear line - this requires interpolation\n",
    "new_curve_vals = []\n",
    "for i in value_steps:\n",
    "    ival = interpolate(i, datacolor_df, 'Smoothed_TXT', 'Linear')\n",
    "    new_curve_vals.append(ival[0])\n",
    "datacolor_df['Curve'] = new_curve_vals\n",
    "datacolor_df[['Linear','Avg_TXT_values','Smoothed_TXT','Curve']].plot(figsize=(7,7), grid=True)\n",
    "plt.show()"
   ]
  },
  {
   "cell_type": "code",
   "execution_count": null,
   "id": "2f748b5f",
   "metadata": {},
   "outputs": [],
   "source": [
    "# scale the values to fit within 0.0 to 100.0\n",
    "min_val = datacolor_df['Curve'].min()\n",
    "datacolor_df['Scaled_Curve'] = (datacolor_df['Curve'] - min_val)\n",
    "max_val = datacolor_df['Scaled_Curve'].max()\n",
    "scaling_fact = 100.0 / max_val\n",
    "datacolor_df['Scaled_Curve'] = datacolor_df['Scaled_Curve'] * scaling_fact\n",
    "datacolor_df[['Linear','Avg_TXT_values','Curve','Scaled_Curve']].plot(figsize=(7,7), grid=True)\n",
    "plt.show()"
   ]
  },
  {
   "cell_type": "code",
   "execution_count": null,
   "id": "f6a51990",
   "metadata": {},
   "outputs": [],
   "source": [
    "# convert the curve so it falls within 0.0 and 1.0\n",
    "converted_vals = [e/100.0 for e in datacolor_df['Scaled_Curve'].tolist()]\n",
    "\n",
    "# get the output filename\n",
    "cube_filename = simpledialog.askstring(\"Output .cube File Name\", \"Enter the name for the output .cube file (no .cube extension)\")\n",
    "cube_filename = cube_filename.replace(\" \", \"_\")\n",
    "\n",
    "# save the new curve to a .cube file\n",
    "out_cube = os.path.join(os.path.dirname(txt_files[0]), \"{}.cube\".format(cube_filename))\n",
    "with open(out_cube, 'w') as cube:\n",
    "    cube.write(\"#Created by: Datacolor_Generate_Curve\\nTITLE  \\\"{}\\\"\\nLUT_1D_SIZE {}\\nDOMAIN_MIN 0.0 0.0 0.0\\nDOMAIN_MAX 1.0 1.0 1.0\\n#LUT data points\\n\".format(cube_filename, len(converted_vals)))\n",
    "    line_template = \"{:<08} {:<08} {:<08}\\n\"\n",
    "    for row in converted_vals:\n",
    "        if row < 0.0:\n",
    "            val = 0.0\n",
    "        elif row > 1.0:\n",
    "            val = 1.0\n",
    "        else:\n",
    "            val = round(row, 6)\n",
    "        cube.write(line_template.format(val, val, val))\n",
    "    cube.write(\"#END data\\n\")\n",
    "print(\"Saved {}\".format(out_cube))"
   ]
  },
  {
   "cell_type": "code",
   "execution_count": null,
   "id": "84887193",
   "metadata": {},
   "outputs": [],
   "source": []
  }
 ],
 "metadata": {
  "kernelspec": {
   "display_name": "Python 3 (ipykernel)",
   "language": "python",
   "name": "python3"
  },
  "language_info": {
   "codemirror_mode": {
    "name": "ipython",
    "version": 3
   },
   "file_extension": ".py",
   "mimetype": "text/x-python",
   "name": "python",
   "nbconvert_exporter": "python",
   "pygments_lexer": "ipython3",
   "version": "3.11.4"
  }
 },
 "nbformat": 4,
 "nbformat_minor": 5
}
